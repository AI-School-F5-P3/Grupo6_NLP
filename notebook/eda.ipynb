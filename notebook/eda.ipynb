{
 "cells": [
  {
   "cell_type": "code",
   "execution_count": 5,
   "metadata": {},
   "outputs": [
    {
     "data": {
      "text/html": [
       "<div>\n",
       "<style scoped>\n",
       "    .dataframe tbody tr th:only-of-type {\n",
       "        vertical-align: middle;\n",
       "    }\n",
       "\n",
       "    .dataframe tbody tr th {\n",
       "        vertical-align: top;\n",
       "    }\n",
       "\n",
       "    .dataframe thead th {\n",
       "        text-align: right;\n",
       "    }\n",
       "</style>\n",
       "<table border=\"1\" class=\"dataframe\">\n",
       "  <thead>\n",
       "    <tr style=\"text-align: right;\">\n",
       "      <th></th>\n",
       "      <th>CommentId</th>\n",
       "      <th>VideoId</th>\n",
       "      <th>Text</th>\n",
       "      <th>IsToxic</th>\n",
       "      <th>IsAbusive</th>\n",
       "      <th>IsThreat</th>\n",
       "      <th>IsProvocative</th>\n",
       "      <th>IsObscene</th>\n",
       "      <th>IsHatespeech</th>\n",
       "      <th>IsRacist</th>\n",
       "      <th>IsNationalist</th>\n",
       "      <th>IsSexist</th>\n",
       "      <th>IsHomophobic</th>\n",
       "      <th>IsReligiousHate</th>\n",
       "      <th>IsRadicalism</th>\n",
       "    </tr>\n",
       "  </thead>\n",
       "  <tbody>\n",
       "    <tr>\n",
       "      <th>0</th>\n",
       "      <td>Ugg2KwwX0V8-aXgCoAEC</td>\n",
       "      <td>04kJtp6pVXI</td>\n",
       "      <td>If only people would just take a step back and...</td>\n",
       "      <td>False</td>\n",
       "      <td>False</td>\n",
       "      <td>False</td>\n",
       "      <td>False</td>\n",
       "      <td>False</td>\n",
       "      <td>False</td>\n",
       "      <td>False</td>\n",
       "      <td>False</td>\n",
       "      <td>False</td>\n",
       "      <td>False</td>\n",
       "      <td>False</td>\n",
       "      <td>False</td>\n",
       "    </tr>\n",
       "    <tr>\n",
       "      <th>1</th>\n",
       "      <td>Ugg2s5AzSPioEXgCoAEC</td>\n",
       "      <td>04kJtp6pVXI</td>\n",
       "      <td>Law enforcement is not trained to shoot to app...</td>\n",
       "      <td>True</td>\n",
       "      <td>True</td>\n",
       "      <td>False</td>\n",
       "      <td>False</td>\n",
       "      <td>False</td>\n",
       "      <td>False</td>\n",
       "      <td>False</td>\n",
       "      <td>False</td>\n",
       "      <td>False</td>\n",
       "      <td>False</td>\n",
       "      <td>False</td>\n",
       "      <td>False</td>\n",
       "    </tr>\n",
       "    <tr>\n",
       "      <th>2</th>\n",
       "      <td>Ugg3dWTOxryFfHgCoAEC</td>\n",
       "      <td>04kJtp6pVXI</td>\n",
       "      <td>\\nDont you reckon them 'black lives matter' ba...</td>\n",
       "      <td>True</td>\n",
       "      <td>True</td>\n",
       "      <td>False</td>\n",
       "      <td>False</td>\n",
       "      <td>True</td>\n",
       "      <td>False</td>\n",
       "      <td>False</td>\n",
       "      <td>False</td>\n",
       "      <td>False</td>\n",
       "      <td>False</td>\n",
       "      <td>False</td>\n",
       "      <td>False</td>\n",
       "    </tr>\n",
       "    <tr>\n",
       "      <th>3</th>\n",
       "      <td>Ugg7Gd006w1MPngCoAEC</td>\n",
       "      <td>04kJtp6pVXI</td>\n",
       "      <td>There are a very large number of people who do...</td>\n",
       "      <td>False</td>\n",
       "      <td>False</td>\n",
       "      <td>False</td>\n",
       "      <td>False</td>\n",
       "      <td>False</td>\n",
       "      <td>False</td>\n",
       "      <td>False</td>\n",
       "      <td>False</td>\n",
       "      <td>False</td>\n",
       "      <td>False</td>\n",
       "      <td>False</td>\n",
       "      <td>False</td>\n",
       "    </tr>\n",
       "    <tr>\n",
       "      <th>4</th>\n",
       "      <td>Ugg8FfTbbNF8IngCoAEC</td>\n",
       "      <td>04kJtp6pVXI</td>\n",
       "      <td>The Arab dude is absolutely right, he should h...</td>\n",
       "      <td>False</td>\n",
       "      <td>False</td>\n",
       "      <td>False</td>\n",
       "      <td>False</td>\n",
       "      <td>False</td>\n",
       "      <td>False</td>\n",
       "      <td>False</td>\n",
       "      <td>False</td>\n",
       "      <td>False</td>\n",
       "      <td>False</td>\n",
       "      <td>False</td>\n",
       "      <td>False</td>\n",
       "    </tr>\n",
       "  </tbody>\n",
       "</table>\n",
       "</div>"
      ],
      "text/plain": [
       "              CommentId      VideoId  \\\n",
       "0  Ugg2KwwX0V8-aXgCoAEC  04kJtp6pVXI   \n",
       "1  Ugg2s5AzSPioEXgCoAEC  04kJtp6pVXI   \n",
       "2  Ugg3dWTOxryFfHgCoAEC  04kJtp6pVXI   \n",
       "3  Ugg7Gd006w1MPngCoAEC  04kJtp6pVXI   \n",
       "4  Ugg8FfTbbNF8IngCoAEC  04kJtp6pVXI   \n",
       "\n",
       "                                                Text  IsToxic  IsAbusive  \\\n",
       "0  If only people would just take a step back and...    False      False   \n",
       "1  Law enforcement is not trained to shoot to app...     True       True   \n",
       "2  \\nDont you reckon them 'black lives matter' ba...     True       True   \n",
       "3  There are a very large number of people who do...    False      False   \n",
       "4  The Arab dude is absolutely right, he should h...    False      False   \n",
       "\n",
       "   IsThreat  IsProvocative  IsObscene  IsHatespeech  IsRacist  IsNationalist  \\\n",
       "0     False          False      False         False     False          False   \n",
       "1     False          False      False         False     False          False   \n",
       "2     False          False       True         False     False          False   \n",
       "3     False          False      False         False     False          False   \n",
       "4     False          False      False         False     False          False   \n",
       "\n",
       "   IsSexist  IsHomophobic  IsReligiousHate  IsRadicalism  \n",
       "0     False         False            False         False  \n",
       "1     False         False            False         False  \n",
       "2     False         False            False         False  \n",
       "3     False         False            False         False  \n",
       "4     False         False            False         False  "
      ]
     },
     "execution_count": 5,
     "metadata": {},
     "output_type": "execute_result"
    }
   ],
   "source": [
    "import pandas as pd\n",
    "import numpy as np\n",
    "import os\n",
    "\n",
    "# Load the dataset\n",
    "# Use the current working directory instead of __file__ for Jupyter or interactive environments\n",
    "current_dir = os.getcwd()  # Gets the current working directory in Jupyter\n",
    "data_path = os.path.join(current_dir, '..', 'data', 'youtube.csv')\n",
    "\n",
    "# Load the CSV file\n",
    "df = pd.read_csv(data_path)\n",
    "\n",
    "# Display the first few rows to check\n",
    "df.head()"
   ]
  },
  {
   "cell_type": "code",
   "execution_count": 6,
   "metadata": {},
   "outputs": [
    {
     "name": "stdout",
     "output_type": "stream",
     "text": [
      "CommentId          0\n",
      "VideoId            0\n",
      "Text               0\n",
      "IsToxic            0\n",
      "IsAbusive          0\n",
      "IsThreat           0\n",
      "IsProvocative      0\n",
      "IsObscene          0\n",
      "IsHatespeech       0\n",
      "IsRacist           0\n",
      "IsNationalist      0\n",
      "IsSexist           0\n",
      "IsHomophobic       0\n",
      "IsReligiousHate    0\n",
      "IsRadicalism       0\n",
      "dtype: int64\n",
      "                   CommentId      VideoId           Text IsToxic IsAbusive  \\\n",
      "count                   1000         1000           1000    1000      1000   \n",
      "unique                  1000           13            997       2         2   \n",
      "top     UgjBJKQSoQMQ6ngCoAEC  9pr1oE34bIM  run them over   False     False   \n",
      "freq                       1          274              3     538       647   \n",
      "\n",
      "       IsThreat IsProvocative IsObscene IsHatespeech IsRacist IsNationalist  \\\n",
      "count      1000          1000      1000         1000     1000          1000   \n",
      "unique        2             2         2            2        2             2   \n",
      "top       False         False     False        False    False         False   \n",
      "freq        979           839       900          862      875           992   \n",
      "\n",
      "       IsSexist IsHomophobic IsReligiousHate IsRadicalism  \n",
      "count      1000         1000            1000         1000  \n",
      "unique        2            1               2            1  \n",
      "top       False        False           False        False  \n",
      "freq        999         1000             988         1000  \n",
      "CommentId          object\n",
      "VideoId            object\n",
      "Text               object\n",
      "IsToxic              bool\n",
      "IsAbusive            bool\n",
      "IsThreat             bool\n",
      "IsProvocative        bool\n",
      "IsObscene            bool\n",
      "IsHatespeech         bool\n",
      "IsRacist             bool\n",
      "IsNationalist        bool\n",
      "IsSexist             bool\n",
      "IsHomophobic         bool\n",
      "IsReligiousHate      bool\n",
      "IsRadicalism         bool\n",
      "dtype: object\n",
      "(1000, 15)\n"
     ]
    }
   ],
   "source": [
    "print(df.isnull().sum())\n",
    "print(df.describe())\n",
    "print(df.dtypes)\n",
    "print(df.shape)"
   ]
  },
  {
   "cell_type": "markdown",
   "metadata": {},
   "source": [
    "Vamos a analizar la distribución de las variables de tipo bool:"
   ]
  },
  {
   "cell_type": "code",
   "execution_count": 7,
   "metadata": {},
   "outputs": [
    {
     "data": {
      "image/png": "[encoded data removed]",
      "text/plain": [
       "<Figure size 1000x600 with 1 Axes>"
      ]
     },
     "metadata": {},
     "output_type": "display_data"
    }
   ],
   "source": [
    "import matplotlib.pyplot as plt\n",
    "\n",
    "# List of bool columns\n",
    "bool_columns = [\n",
    "    'IsToxic', 'IsAbusive', 'IsThreat', 'IsProvocative', 'IsObscene',\n",
    "    'IsHatespeech', 'IsRacist', 'IsNationalist', 'IsSexist', \n",
    "    'IsHomophobic', 'IsReligiousHate', 'IsRadicalism'\n",
    "]\n",
    "\n",
    "# Calcular el porcentaje de True en cada columna booleana\n",
    "bool_percentages = (df[bool_columns].sum() / len(df)) * 100\n",
    "\n",
    "# Visualizar los porcentajes como un gráfico de barras\n",
    "plt.figure(figsize=(10, 6))\n",
    "bool_percentages.plot(kind='bar', color='skyblue')\n",
    "plt.title('Porcentaje de comentarios tóxicos por tipo')\n",
    "plt.xlabel('Tipo de Toxicidad')\n",
    "plt.ylabel('Porcentaje de True (%)')\n",
    "plt.xticks(rotation=45)\n",
    "plt.show()"
   ]
  },
  {
   "cell_type": "markdown",
   "metadata": {},
   "source": [
    "Podemos observar que dos variables son las que tienen la gran mayoría de peso, que son IsToxic y IsAbusive. Donde IsToxic tiene mas de un 45%."
   ]
  },
  {
   "cell_type": "markdown",
   "metadata": {},
   "source": [
    "Tras analizar esta gráfica, vamos a analizar más en profundidad la variable IsToxic, para ver posibles patrones con el resto, y analizar si podría tratarse de una variable que combine y sea el resultado de las demás."
   ]
  },
  {
   "cell_type": "code",
   "execution_count": 8,
   "metadata": {},
   "outputs": [],
   "source": [
    "# Define toxic columns (excluding IsToxic)\n",
    "toxic_columns = ['IsAbusive', 'IsThreat', 'IsProvocative', 'IsObscene', 'IsHatespeech', 'IsRacist', 'IsNationalist', 'IsSexist', 'IsHomophobic', 'IsReligiousHate', 'IsRadicalism']"
   ]
  },
  {
   "cell_type": "code",
   "execution_count": 9,
   "metadata": {},
   "outputs": [],
   "source": [
    "# Calculate the sum of toxic columns\n",
    "df['ToxicSum'] = df[toxic_columns].sum(axis=1)"
   ]
  },
  {
   "cell_type": "code",
   "execution_count": 10,
   "metadata": {},
   "outputs": [],
   "source": [
    "# Create a new column 'NewIsToxic' based on ToxicSum\n",
    "df['NewIsToxic'] = (df['ToxicSum'] > 0).astype(int)"
   ]
  },
  {
   "cell_type": "code",
   "execution_count": 11,
   "metadata": {},
   "outputs": [],
   "source": [
    "# Compare NewIsToxic with original IsToxic\n",
    "df['Matches'] = (df['NewIsToxic'] == df['IsToxic']).astype(int)"
   ]
  },
  {
   "cell_type": "code",
   "execution_count": 12,
   "metadata": {},
   "outputs": [
    {
     "name": "stdout",
     "output_type": "stream",
     "text": [
      "Correct predictions for True (True Positives): 462\n",
      "Correct predictions for False (True Negatives): 538\n",
      "Incorrect predictions (False Positives): 0\n",
      "Incorrect predictions (False Negatives): 0\n",
      "Total correct predictions: 1000\n",
      "Accuracy: 100.00%\n"
     ]
    }
   ],
   "source": [
    "# Calculate correct predictions\n",
    "true_positives = ((df['IsToxic'] == 1) & (df['NewIsToxic'] == 1)).sum()\n",
    "true_negatives = ((df['IsToxic'] == 0) & (df['NewIsToxic'] == 0)).sum()\n",
    "false_positives = ((df['IsToxic'] == 0) & (df['NewIsToxic'] == 1)).sum()\n",
    "false_negatives = ((df['IsToxic'] == 1) & (df['NewIsToxic'] == 0)).sum()\n",
    "\n",
    "print(f\"Correct predictions for True (True Positives): {true_positives}\")\n",
    "print(f\"Correct predictions for False (True Negatives): {true_negatives}\")\n",
    "print(f\"Incorrect predictions (False Positives): {false_positives}\")\n",
    "print(f\"Incorrect predictions (False Negatives): {false_negatives}\")\n",
    "print(f\"Total correct predictions: {true_positives + true_negatives}\")\n",
    "print(f\"Accuracy: {(true_positives + true_negatives) / len(df):.2%}\")"
   ]
  },
  {
   "cell_type": "code",
   "execution_count": 13,
   "metadata": {},
   "outputs": [
    {
     "name": "stdout",
     "output_type": "stream",
     "text": [
      "Updated dataset saved to 'c:\\Users\\WINDOWS\\Desktop\\Bootcamp_IA\\Proyecto_NLP\\Grupo6_NLP\\notebook\\..\\data\\compare_toxic.csv'\n"
     ]
    }
   ],
   "source": [
    "# Save the updated dataframe to a new CSV file\n",
    "output_path = os.path.join(os.path.dirname(data_path), 'compare_toxic.csv')\n",
    "\n",
    "df.to_csv(output_path, index=False)\n",
    "\n",
    "print(f\"Updated dataset saved to '{output_path}'\")"
   ]
  },
  {
   "cell_type": "markdown",
   "metadata": {},
   "source": [
    "Con esto podemos observar que si en las 'toxic_columns' hay 1 o más variables que sean True, el resultado de IsToxic va a ser True, por lo tanto, en vez de entranar al modelo con una multiclase, elegiremos entrenarlo solo con la variable que engloba a todas, es decir la variable IsToxic. "
   ]
  }
 ],
 "metadata": {
  "kernelspec": {
   "display_name": ".venv",
   "language": "python",
   "name": "python3"
  },
  "language_info": {
   "codemirror_mode": {
    "name": "ipython",
    "version": 3
   },
   "file_extension": ".py",
   "mimetype": "text/x-python",
   "name": "python",
   "nbconvert_exporter": "python",
   "pygments_lexer": "ipython3",
   "version": "3.12.3"
  }
 },
 "nbformat": 4,
 "nbformat_minor": 2
}
